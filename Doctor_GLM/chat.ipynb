{
 "cells": [
  {
   "cell_type": "code",
   "execution_count": null,
   "metadata": {},
   "outputs": [],
   "source": [
    "import torch\n",
    "from deep_training.data_helper import ModelArguments, TrainingArguments, DataArguments\n",
    "from deep_training.nlp.models.chatglm import TransformerChatGlmLMHeadModel, setup_model_profile, ChatGLMConfig,ChatGLMForConditionalGeneration\n",
    "from deep_training.nlp.models.lora import LoraArguments, LoraModel\n",
    "from transformers import HfArgumentParser\n",
    "\n",
    "from data_utils import train_info_args, NN_DataHelper\n",
    "from tokenization_chatglm import ChatGLMTokenizer"
   ]
  },
  {
   "cell_type": "code",
   "execution_count": null,
   "metadata": {},
   "outputs": [],
   "source": [
    "class MyTransformer(TransformerChatGlmLMHeadModel, with_pl=True):\n",
    "    def __init__(self, *args, **kwargs):\n",
    "        lora_args: LoraArguments = kwargs.pop('lora_args')\n",
    "        super(MyTransformer, self).__init__(*args, **kwargs)\n",
    "        self.lora_args = lora_args\n",
    "        if lora_args.with_lora:\n",
    "            model = LoraModel(self.backbone, lora_args)\n",
    "            print('*' * 30,'lora info')\n",
    "            model.print_trainable_parameters()\n",
    "            self.set_model(model, copy_attr=False)"
   ]
  },
  {
   "cell_type": "code",
   "execution_count": null,
   "metadata": {},
   "outputs": [],
   "source": [
    "train_info_args['seed'] = None\n",
    "parser = HfArgumentParser((ModelArguments, TrainingArguments, DataArguments, LoraArguments))\n",
    "model_args, training_args, data_args, _ = parser.parse_dict(train_info_args)\n",
    "\n",
    "setup_model_profile()\n",
    "\n",
    "dataHelper = NN_DataHelper(model_args, training_args, data_args)\n",
    "tokenizer: ChatGLMTokenizer\n",
    "tokenizer, _, _, _ = dataHelper.load_tokenizer_and_config(\n",
    "    tokenizer_class_name=ChatGLMTokenizer, config_class_name=ChatGLMConfig)\n",
    "config = ChatGLMConfig.from_pretrained('./ckpt')\n",
    "lora_args = LoraArguments.from_pretrained('./ckpt')\n",
    "\n",
    "assert lora_args.inference_mode == True\n"
   ]
  },
  {
   "cell_type": "code",
   "execution_count": null,
   "metadata": {},
   "outputs": [],
   "source": [
    "model = MyTransformer(config=config, model_args=model_args, training_args=training_args,lora_args=lora_args)\n",
    "# 加载lora权重\n",
    "model.backbone.from_pretrained(model.backbone.model, pretrained_model_name_or_path = './ckpt', lora_config = lora_args)\n",
    "model.eval()\n",
    "base_model: ChatGLMForConditionalGeneration = model.backbone.model.model\n",
    "base_model.half().to(torch.device('cuda:0'))"
   ]
  },
  {
   "cell_type": "code",
   "execution_count": null,
   "metadata": {},
   "outputs": [],
   "source": [
    "ask = '请问高血压能吃党参吗'\n",
    "with torch.inference_mode():\n",
    "    response, history = base_model.chat(tokenizer, ask, history=[],max_length=512)\n",
    "    print(ask)\n",
    "    print(response)\n"
   ]
  }
 ],
 "metadata": {
  "kernelspec": {
   "display_name": "origin",
   "language": "python",
   "name": "python3"
  },
  "language_info": {
   "codemirror_mode": {
    "name": "ipython",
    "version": 3
   },
   "file_extension": ".py",
   "mimetype": "text/x-python",
   "name": "python",
   "nbconvert_exporter": "python",
   "pygments_lexer": "ipython3",
   "version": "3.8.0"
  },
  "orig_nbformat": 4
 },
 "nbformat": 4,
 "nbformat_minor": 2
}
