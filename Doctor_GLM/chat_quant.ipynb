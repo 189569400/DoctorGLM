{
 "cells": [
  {
   "cell_type": "code",
   "execution_count": null,
   "metadata": {},
   "outputs": [],
   "source": [
    "from load_quantization import load_int\n",
    "tokenizer, model = load_int('DoctorGLM-6B-INT8-6merge-int8.pt',8)"
   ]
  },
  {
   "cell_type": "code",
   "execution_count": null,
   "metadata": {},
   "outputs": [],
   "source": [
    "response, history = model.chat(tokenizer,\n",
    "                               \"我爷爷高血压可以喝咖啡吗\",\n",
    "                               history=[],\n",
    "                               max_length=2048)\n",
    "print(response)\n"
   ]
  }
 ],
 "metadata": {
  "language_info": {
   "name": "python"
  },
  "orig_nbformat": 4
 },
 "nbformat": 4,
 "nbformat_minor": 2
}
